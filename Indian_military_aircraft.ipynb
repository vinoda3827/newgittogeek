{
  "nbformat": 4,
  "nbformat_minor": 0,
  "metadata": {
    "colab": {
      "provenance": [],
      "mount_file_id": "1b0QtzOIYTwvnOo94dCC8qWN2VgBHlMQm",
      "authorship_tag": "ABX9TyNsXARARXPe0pBfdoPtRwxj",
      "include_colab_link": true
    },
    "kernelspec": {
      "name": "python3",
      "display_name": "Python 3"
    },
    "language_info": {
      "name": "python"
    }
  },
  "cells": [
    {
      "cell_type": "markdown",
      "metadata": {
        "id": "view-in-github",
        "colab_type": "text"
      },
      "source": [
        "<a href=\"https://colab.research.google.com/github/vinoda3827/newgittogeek/blob/main/Indian_military_aircraft.ipynb\" target=\"_parent\"><img src=\"https://colab.research.google.com/assets/colab-badge.svg\" alt=\"Open In Colab\"/></a>"
      ]
    },
    {
      "cell_type": "code",
      "source": [],
      "metadata": {
        "id": "E1db1LQg2MvB"
      },
      "execution_count": null,
      "outputs": []
    },
    {
      "cell_type": "code",
      "execution_count": 2,
      "metadata": {
        "id": "ynVebSkCYKmO"
      },
      "outputs": [],
      "source": [
        "import requests\n",
        "import pandas as pd\n",
        "from bs4 import BeautifulSoup\n",
        "\n",
        "url='https://en.wikipedia.org/wiki/List_of_active_Indian_military_aircraft'\n",
        "data=requests.get(url)\n",
        "\n",
        "soup=BeautifulSoup(data.content,'html.parser')\n",
        "list1=soup.find('table',class_='wikitable')\n",
        "lst=[]\n",
        "for i in list1.find_all('tr')[2:]:\n",
        "  try:\n",
        "    lst.append(i.find('td').text)\n",
        "  except:\n",
        "    continue\n",
        "df=pd.DataFrame(lst)\n",
        "var=\"/content/drive/My Drive/lst.csv\"\n",
        "df.to_csv(var,index=False)"
      ]
    },
    {
      "cell_type": "code",
      "source": [
        "from google.colab import drive\n",
        "drive.mount('/content/drive')"
      ],
      "metadata": {
        "id": "qRJ2RLmdSKnE"
      },
      "execution_count": null,
      "outputs": []
    },
    {
      "cell_type": "code",
      "source": [],
      "metadata": {
        "id": "Xue3V0_EURqH"
      },
      "execution_count": null,
      "outputs": []
    }
  ]
}